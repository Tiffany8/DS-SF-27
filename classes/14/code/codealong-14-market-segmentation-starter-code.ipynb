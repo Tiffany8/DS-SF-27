{
 "cells": [
  {
   "cell_type": "markdown",
   "metadata": {},
   "source": [
    "# DS-SF-27 | Codelaong 14 | Market Segmentation"
   ]
  },
  {
   "cell_type": "code",
   "execution_count": 32,
   "metadata": {
    "collapsed": true
   },
   "outputs": [],
   "source": [
    "import os\n",
    "\n",
    "import numpy as np\n",
    "import pandas as pd\n",
    "pd.set_option('display.max_rows', 10)\n",
    "pd.set_option('display.notebook_repr_html', True)\n",
    "pd.set_option('display.max_columns', 10)\n",
    "\n",
    "from sklearn import decomposition, cluster\n",
    "\n",
    "import matplotlib.pyplot as plt\n",
    "%matplotlib inline\n",
    "plt.style.use('ggplot')"
   ]
  },
  {
   "cell_type": "code",
   "execution_count": 33,
   "metadata": {
    "collapsed": false
   },
   "outputs": [],
   "source": [
    "df = pd.read_csv(os.path.join('..', 'datasets', 'ford-ka.csv'), index_col = 'id')"
   ]
  },
  {
   "cell_type": "code",
   "execution_count": 34,
   "metadata": {
    "collapsed": false
   },
   "outputs": [
    {
     "data": {
      "text/html": [
       "<div>\n",
       "<table border=\"1\" class=\"dataframe\">\n",
       "  <thead>\n",
       "    <tr style=\"text-align: right;\">\n",
       "      <th></th>\n",
       "      <th>Q1</th>\n",
       "      <th>Q2</th>\n",
       "      <th>Q3</th>\n",
       "      <th>Q4</th>\n",
       "      <th>Q5</th>\n",
       "      <th>...</th>\n",
       "      <th>Q58</th>\n",
       "      <th>Q59</th>\n",
       "      <th>Q60</th>\n",
       "      <th>Q61</th>\n",
       "      <th>Q62</th>\n",
       "    </tr>\n",
       "    <tr>\n",
       "      <th>id</th>\n",
       "      <th></th>\n",
       "      <th></th>\n",
       "      <th></th>\n",
       "      <th></th>\n",
       "      <th></th>\n",
       "      <th></th>\n",
       "      <th></th>\n",
       "      <th></th>\n",
       "      <th></th>\n",
       "      <th></th>\n",
       "      <th></th>\n",
       "    </tr>\n",
       "  </thead>\n",
       "  <tbody>\n",
       "    <tr>\n",
       "      <th>1</th>\n",
       "      <td>6</td>\n",
       "      <td>2</td>\n",
       "      <td>4</td>\n",
       "      <td>3</td>\n",
       "      <td>1</td>\n",
       "      <td>...</td>\n",
       "      <td>3</td>\n",
       "      <td>4</td>\n",
       "      <td>4</td>\n",
       "      <td>4</td>\n",
       "      <td>2</td>\n",
       "    </tr>\n",
       "    <tr>\n",
       "      <th>2</th>\n",
       "      <td>7</td>\n",
       "      <td>7</td>\n",
       "      <td>7</td>\n",
       "      <td>5</td>\n",
       "      <td>4</td>\n",
       "      <td>...</td>\n",
       "      <td>4</td>\n",
       "      <td>3</td>\n",
       "      <td>5</td>\n",
       "      <td>4</td>\n",
       "      <td>5</td>\n",
       "    </tr>\n",
       "    <tr>\n",
       "      <th>3</th>\n",
       "      <td>5</td>\n",
       "      <td>4</td>\n",
       "      <td>6</td>\n",
       "      <td>5</td>\n",
       "      <td>7</td>\n",
       "      <td>...</td>\n",
       "      <td>4</td>\n",
       "      <td>5</td>\n",
       "      <td>3</td>\n",
       "      <td>4</td>\n",
       "      <td>4</td>\n",
       "    </tr>\n",
       "    <tr>\n",
       "      <th>4</th>\n",
       "      <td>4</td>\n",
       "      <td>2</td>\n",
       "      <td>5</td>\n",
       "      <td>4</td>\n",
       "      <td>2</td>\n",
       "      <td>...</td>\n",
       "      <td>2</td>\n",
       "      <td>5</td>\n",
       "      <td>5</td>\n",
       "      <td>5</td>\n",
       "      <td>3</td>\n",
       "    </tr>\n",
       "    <tr>\n",
       "      <th>5</th>\n",
       "      <td>5</td>\n",
       "      <td>5</td>\n",
       "      <td>7</td>\n",
       "      <td>6</td>\n",
       "      <td>7</td>\n",
       "      <td>...</td>\n",
       "      <td>5</td>\n",
       "      <td>4</td>\n",
       "      <td>3</td>\n",
       "      <td>4</td>\n",
       "      <td>5</td>\n",
       "    </tr>\n",
       "    <tr>\n",
       "      <th>...</th>\n",
       "      <td>...</td>\n",
       "      <td>...</td>\n",
       "      <td>...</td>\n",
       "      <td>...</td>\n",
       "      <td>...</td>\n",
       "      <td>...</td>\n",
       "      <td>...</td>\n",
       "      <td>...</td>\n",
       "      <td>...</td>\n",
       "      <td>...</td>\n",
       "      <td>...</td>\n",
       "    </tr>\n",
       "    <tr>\n",
       "      <th>246</th>\n",
       "      <td>6</td>\n",
       "      <td>7</td>\n",
       "      <td>5</td>\n",
       "      <td>5</td>\n",
       "      <td>3</td>\n",
       "      <td>...</td>\n",
       "      <td>5</td>\n",
       "      <td>2</td>\n",
       "      <td>3</td>\n",
       "      <td>4</td>\n",
       "      <td>5</td>\n",
       "    </tr>\n",
       "    <tr>\n",
       "      <th>247</th>\n",
       "      <td>4</td>\n",
       "      <td>3</td>\n",
       "      <td>6</td>\n",
       "      <td>7</td>\n",
       "      <td>6</td>\n",
       "      <td>...</td>\n",
       "      <td>2</td>\n",
       "      <td>5</td>\n",
       "      <td>4</td>\n",
       "      <td>4</td>\n",
       "      <td>4</td>\n",
       "    </tr>\n",
       "    <tr>\n",
       "      <th>248</th>\n",
       "      <td>6</td>\n",
       "      <td>5</td>\n",
       "      <td>3</td>\n",
       "      <td>1</td>\n",
       "      <td>4</td>\n",
       "      <td>...</td>\n",
       "      <td>6</td>\n",
       "      <td>6</td>\n",
       "      <td>1</td>\n",
       "      <td>2</td>\n",
       "      <td>2</td>\n",
       "    </tr>\n",
       "    <tr>\n",
       "      <th>249</th>\n",
       "      <td>3</td>\n",
       "      <td>3</td>\n",
       "      <td>6</td>\n",
       "      <td>7</td>\n",
       "      <td>6</td>\n",
       "      <td>...</td>\n",
       "      <td>5</td>\n",
       "      <td>4</td>\n",
       "      <td>5</td>\n",
       "      <td>5</td>\n",
       "      <td>3</td>\n",
       "    </tr>\n",
       "    <tr>\n",
       "      <th>250</th>\n",
       "      <td>7</td>\n",
       "      <td>6</td>\n",
       "      <td>3</td>\n",
       "      <td>3</td>\n",
       "      <td>4</td>\n",
       "      <td>...</td>\n",
       "      <td>5</td>\n",
       "      <td>5</td>\n",
       "      <td>5</td>\n",
       "      <td>3</td>\n",
       "      <td>6</td>\n",
       "    </tr>\n",
       "  </tbody>\n",
       "</table>\n",
       "<p>250 rows × 62 columns</p>\n",
       "</div>"
      ],
      "text/plain": [
       "     Q1  Q2  Q3  Q4  Q5 ...   Q58  Q59  Q60  Q61  Q62\n",
       "id                      ...                          \n",
       "1     6   2   4   3   1 ...     3    4    4    4    2\n",
       "2     7   7   7   5   4 ...     4    3    5    4    5\n",
       "3     5   4   6   5   7 ...     4    5    3    4    4\n",
       "4     4   2   5   4   2 ...     2    5    5    5    3\n",
       "5     5   5   7   6   7 ...     5    4    3    4    5\n",
       "..   ..  ..  ..  ..  .. ...   ...  ...  ...  ...  ...\n",
       "246   6   7   5   5   3 ...     5    2    3    4    5\n",
       "247   4   3   6   7   6 ...     2    5    4    4    4\n",
       "248   6   5   3   1   4 ...     6    6    1    2    2\n",
       "249   3   3   6   7   6 ...     5    4    5    5    3\n",
       "250   7   6   3   3   4 ...     5    5    5    3    6\n",
       "\n",
       "[250 rows x 62 columns]"
      ]
     },
     "execution_count": 34,
     "metadata": {},
     "output_type": "execute_result"
    }
   ],
   "source": [
    "df"
   ]
  },
  {
   "cell_type": "markdown",
   "metadata": {},
   "source": [
    "## Checking for NaN"
   ]
  },
  {
   "cell_type": "code",
   "execution_count": 35,
   "metadata": {
    "collapsed": false
   },
   "outputs": [
    {
     "data": {
      "text/plain": [
       "0"
      ]
     },
     "execution_count": 35,
     "metadata": {},
     "output_type": "execute_result"
    }
   ],
   "source": [
    "# TODO\n",
    "df.isnull().sum().sum()"
   ]
  },
  {
   "cell_type": "markdown",
   "metadata": {},
   "source": [
    "## Center and scale"
   ]
  },
  {
   "cell_type": "markdown",
   "metadata": {},
   "source": [
    "62 attitudinal questions on a 7-point scale: 1 = strongly disagree; 4 = neigher disagree nor agree; 7 = strongly agree"
   ]
  },
  {
   "cell_type": "code",
   "execution_count": 36,
   "metadata": {
    "collapsed": false
   },
   "outputs": [],
   "source": [
    "# TODO\n",
    "df = (df - 4) / 3"
   ]
  },
  {
   "cell_type": "code",
   "execution_count": 37,
   "metadata": {
    "collapsed": false
   },
   "outputs": [
    {
     "data": {
      "text/html": [
       "<div>\n",
       "<table border=\"1\" class=\"dataframe\">\n",
       "  <thead>\n",
       "    <tr style=\"text-align: right;\">\n",
       "      <th></th>\n",
       "      <th>Q1</th>\n",
       "      <th>Q2</th>\n",
       "      <th>Q3</th>\n",
       "      <th>Q4</th>\n",
       "      <th>Q5</th>\n",
       "      <th>...</th>\n",
       "      <th>Q58</th>\n",
       "      <th>Q59</th>\n",
       "      <th>Q60</th>\n",
       "      <th>Q61</th>\n",
       "      <th>Q62</th>\n",
       "    </tr>\n",
       "    <tr>\n",
       "      <th>id</th>\n",
       "      <th></th>\n",
       "      <th></th>\n",
       "      <th></th>\n",
       "      <th></th>\n",
       "      <th></th>\n",
       "      <th></th>\n",
       "      <th></th>\n",
       "      <th></th>\n",
       "      <th></th>\n",
       "      <th></th>\n",
       "      <th></th>\n",
       "    </tr>\n",
       "  </thead>\n",
       "  <tbody>\n",
       "    <tr>\n",
       "      <th>1</th>\n",
       "      <td>0.666667</td>\n",
       "      <td>-0.666667</td>\n",
       "      <td>0.000000</td>\n",
       "      <td>-0.333333</td>\n",
       "      <td>-1.000000</td>\n",
       "      <td>...</td>\n",
       "      <td>-0.333333</td>\n",
       "      <td>0.000000</td>\n",
       "      <td>0.000000</td>\n",
       "      <td>0.000000</td>\n",
       "      <td>-0.666667</td>\n",
       "    </tr>\n",
       "    <tr>\n",
       "      <th>2</th>\n",
       "      <td>1.000000</td>\n",
       "      <td>1.000000</td>\n",
       "      <td>1.000000</td>\n",
       "      <td>0.333333</td>\n",
       "      <td>0.000000</td>\n",
       "      <td>...</td>\n",
       "      <td>0.000000</td>\n",
       "      <td>-0.333333</td>\n",
       "      <td>0.333333</td>\n",
       "      <td>0.000000</td>\n",
       "      <td>0.333333</td>\n",
       "    </tr>\n",
       "    <tr>\n",
       "      <th>3</th>\n",
       "      <td>0.333333</td>\n",
       "      <td>0.000000</td>\n",
       "      <td>0.666667</td>\n",
       "      <td>0.333333</td>\n",
       "      <td>1.000000</td>\n",
       "      <td>...</td>\n",
       "      <td>0.000000</td>\n",
       "      <td>0.333333</td>\n",
       "      <td>-0.333333</td>\n",
       "      <td>0.000000</td>\n",
       "      <td>0.000000</td>\n",
       "    </tr>\n",
       "    <tr>\n",
       "      <th>4</th>\n",
       "      <td>0.000000</td>\n",
       "      <td>-0.666667</td>\n",
       "      <td>0.333333</td>\n",
       "      <td>0.000000</td>\n",
       "      <td>-0.666667</td>\n",
       "      <td>...</td>\n",
       "      <td>-0.666667</td>\n",
       "      <td>0.333333</td>\n",
       "      <td>0.333333</td>\n",
       "      <td>0.333333</td>\n",
       "      <td>-0.333333</td>\n",
       "    </tr>\n",
       "    <tr>\n",
       "      <th>5</th>\n",
       "      <td>0.333333</td>\n",
       "      <td>0.333333</td>\n",
       "      <td>1.000000</td>\n",
       "      <td>0.666667</td>\n",
       "      <td>1.000000</td>\n",
       "      <td>...</td>\n",
       "      <td>0.333333</td>\n",
       "      <td>0.000000</td>\n",
       "      <td>-0.333333</td>\n",
       "      <td>0.000000</td>\n",
       "      <td>0.333333</td>\n",
       "    </tr>\n",
       "    <tr>\n",
       "      <th>...</th>\n",
       "      <td>...</td>\n",
       "      <td>...</td>\n",
       "      <td>...</td>\n",
       "      <td>...</td>\n",
       "      <td>...</td>\n",
       "      <td>...</td>\n",
       "      <td>...</td>\n",
       "      <td>...</td>\n",
       "      <td>...</td>\n",
       "      <td>...</td>\n",
       "      <td>...</td>\n",
       "    </tr>\n",
       "    <tr>\n",
       "      <th>246</th>\n",
       "      <td>0.666667</td>\n",
       "      <td>1.000000</td>\n",
       "      <td>0.333333</td>\n",
       "      <td>0.333333</td>\n",
       "      <td>-0.333333</td>\n",
       "      <td>...</td>\n",
       "      <td>0.333333</td>\n",
       "      <td>-0.666667</td>\n",
       "      <td>-0.333333</td>\n",
       "      <td>0.000000</td>\n",
       "      <td>0.333333</td>\n",
       "    </tr>\n",
       "    <tr>\n",
       "      <th>247</th>\n",
       "      <td>0.000000</td>\n",
       "      <td>-0.333333</td>\n",
       "      <td>0.666667</td>\n",
       "      <td>1.000000</td>\n",
       "      <td>0.666667</td>\n",
       "      <td>...</td>\n",
       "      <td>-0.666667</td>\n",
       "      <td>0.333333</td>\n",
       "      <td>0.000000</td>\n",
       "      <td>0.000000</td>\n",
       "      <td>0.000000</td>\n",
       "    </tr>\n",
       "    <tr>\n",
       "      <th>248</th>\n",
       "      <td>0.666667</td>\n",
       "      <td>0.333333</td>\n",
       "      <td>-0.333333</td>\n",
       "      <td>-1.000000</td>\n",
       "      <td>0.000000</td>\n",
       "      <td>...</td>\n",
       "      <td>0.666667</td>\n",
       "      <td>0.666667</td>\n",
       "      <td>-1.000000</td>\n",
       "      <td>-0.666667</td>\n",
       "      <td>-0.666667</td>\n",
       "    </tr>\n",
       "    <tr>\n",
       "      <th>249</th>\n",
       "      <td>-0.333333</td>\n",
       "      <td>-0.333333</td>\n",
       "      <td>0.666667</td>\n",
       "      <td>1.000000</td>\n",
       "      <td>0.666667</td>\n",
       "      <td>...</td>\n",
       "      <td>0.333333</td>\n",
       "      <td>0.000000</td>\n",
       "      <td>0.333333</td>\n",
       "      <td>0.333333</td>\n",
       "      <td>-0.333333</td>\n",
       "    </tr>\n",
       "    <tr>\n",
       "      <th>250</th>\n",
       "      <td>1.000000</td>\n",
       "      <td>0.666667</td>\n",
       "      <td>-0.333333</td>\n",
       "      <td>-0.333333</td>\n",
       "      <td>0.000000</td>\n",
       "      <td>...</td>\n",
       "      <td>0.333333</td>\n",
       "      <td>0.333333</td>\n",
       "      <td>0.333333</td>\n",
       "      <td>-0.333333</td>\n",
       "      <td>0.666667</td>\n",
       "    </tr>\n",
       "  </tbody>\n",
       "</table>\n",
       "<p>250 rows × 62 columns</p>\n",
       "</div>"
      ],
      "text/plain": [
       "           Q1        Q2        Q3        Q4        Q5    ...          Q58  \\\n",
       "id                                                       ...                \n",
       "1    0.666667 -0.666667  0.000000 -0.333333 -1.000000    ...    -0.333333   \n",
       "2    1.000000  1.000000  1.000000  0.333333  0.000000    ...     0.000000   \n",
       "3    0.333333  0.000000  0.666667  0.333333  1.000000    ...     0.000000   \n",
       "4    0.000000 -0.666667  0.333333  0.000000 -0.666667    ...    -0.666667   \n",
       "5    0.333333  0.333333  1.000000  0.666667  1.000000    ...     0.333333   \n",
       "..        ...       ...       ...       ...       ...    ...          ...   \n",
       "246  0.666667  1.000000  0.333333  0.333333 -0.333333    ...     0.333333   \n",
       "247  0.000000 -0.333333  0.666667  1.000000  0.666667    ...    -0.666667   \n",
       "248  0.666667  0.333333 -0.333333 -1.000000  0.000000    ...     0.666667   \n",
       "249 -0.333333 -0.333333  0.666667  1.000000  0.666667    ...     0.333333   \n",
       "250  1.000000  0.666667 -0.333333 -0.333333  0.000000    ...     0.333333   \n",
       "\n",
       "          Q59       Q60       Q61       Q62  \n",
       "id                                           \n",
       "1    0.000000  0.000000  0.000000 -0.666667  \n",
       "2   -0.333333  0.333333  0.000000  0.333333  \n",
       "3    0.333333 -0.333333  0.000000  0.000000  \n",
       "4    0.333333  0.333333  0.333333 -0.333333  \n",
       "5    0.000000 -0.333333  0.000000  0.333333  \n",
       "..        ...       ...       ...       ...  \n",
       "246 -0.666667 -0.333333  0.000000  0.333333  \n",
       "247  0.333333  0.000000  0.000000  0.000000  \n",
       "248  0.666667 -1.000000 -0.666667 -0.666667  \n",
       "249  0.000000  0.333333  0.333333 -0.333333  \n",
       "250  0.333333  0.333333 -0.333333  0.666667  \n",
       "\n",
       "[250 rows x 62 columns]"
      ]
     },
     "execution_count": 37,
     "metadata": {},
     "output_type": "execute_result"
    }
   ],
   "source": [
    "df"
   ]
  },
  {
   "cell_type": "markdown",
   "metadata": {},
   "source": [
    "## Principal Component Analysis (PCA)"
   ]
  },
  {
   "cell_type": "markdown",
   "metadata": {},
   "source": [
    "http://scikit-learn.org/stable/modules/generated/sklearn.decomposition.PCA.html"
   ]
  },
  {
   "cell_type": "code",
   "execution_count": 38,
   "metadata": {
    "collapsed": false
   },
   "outputs": [],
   "source": [
    "# TODO\n",
    "X = df\n",
    "# there is no c"
   ]
  },
  {
   "cell_type": "code",
   "execution_count": 39,
   "metadata": {
    "collapsed": false
   },
   "outputs": [],
   "source": [
    "pca = decomposition.PCA().fit(X)"
   ]
  },
  {
   "cell_type": "code",
   "execution_count": 40,
   "metadata": {
    "collapsed": false
   },
   "outputs": [
    {
     "data": {
      "text/plain": [
       "62"
      ]
     },
     "execution_count": 40,
     "metadata": {},
     "output_type": "execute_result"
    }
   ],
   "source": [
    "pca.n_components_"
   ]
  },
  {
   "cell_type": "markdown",
   "metadata": {},
   "source": [
    "### Explained Variance"
   ]
  },
  {
   "cell_type": "code",
   "execution_count": 41,
   "metadata": {
    "collapsed": false
   },
   "outputs": [],
   "source": [
    "normalized_eigenvalues = pca.explained_variance_ratio_"
   ]
  },
  {
   "cell_type": "code",
   "execution_count": 42,
   "metadata": {
    "collapsed": false
   },
   "outputs": [
    {
     "data": {
      "text/plain": [
       "array([ 0.34307738,  0.17691961,  0.09244568,  0.01479303,  0.01348088,\n",
       "        0.01287346,  0.01252905,  0.01229448,  0.0116312 ,  0.01155003,\n",
       "        0.01141081,  0.01088612,  0.01065068,  0.01023675,  0.00980565,\n",
       "        0.00970013,  0.00935484,  0.00912774,  0.00890327,  0.0085995 ,\n",
       "        0.00841132,  0.0082796 ,  0.00811105,  0.00776238,  0.00758853,\n",
       "        0.00740232,  0.00694244,  0.00668767,  0.00654599,  0.0065302 ,\n",
       "        0.00634308,  0.00614083,  0.00605071,  0.00577515,  0.00561425,\n",
       "        0.00548123,  0.0053805 ,  0.00487332,  0.00483682,  0.00474037,\n",
       "        0.00466974,  0.00447012,  0.004349  ,  0.00418052,  0.00401993,\n",
       "        0.00395991,  0.00387482,  0.00370367,  0.00361474,  0.00342931,\n",
       "        0.00328957,  0.00294592,  0.00286619,  0.00283253,  0.00277463,\n",
       "        0.00262121,  0.00246656,  0.00231566,  0.00216999,  0.00197679,\n",
       "        0.00192215,  0.00177897])"
      ]
     },
     "execution_count": 42,
     "metadata": {},
     "output_type": "execute_result"
    }
   ],
   "source": [
    "normalized_eigenvalues"
   ]
  },
  {
   "cell_type": "code",
   "execution_count": 43,
   "metadata": {
    "collapsed": false
   },
   "outputs": [
    {
     "data": {
      "text/plain": [
       "0.99999999999999978"
      ]
     },
     "execution_count": 43,
     "metadata": {},
     "output_type": "execute_result"
    }
   ],
   "source": [
    "normalized_eigenvalues.sum()"
   ]
  },
  {
   "cell_type": "markdown",
   "metadata": {},
   "source": [
    "### Scree plot"
   ]
  },
  {
   "cell_type": "code",
   "execution_count": 44,
   "metadata": {
    "collapsed": false
   },
   "outputs": [
    {
     "data": {
      "text/plain": [
       "(-0.01, 0.35307737877240203)"
      ]
     },
     "execution_count": 44,
     "metadata": {},
     "output_type": "execute_result"
    },
    {
     "data": {
      "image/png": "[encoded data removed]",
      "text/plain": [
       "<matplotlib.figure.Figure at 0x1138e11d0>"
      ]
     },
     "metadata": {},
     "output_type": "display_data"
    }
   ],
   "source": [
    "plt.plot(normalized_eigenvalues)\n",
    "\n",
    "plt.scatter(x = range(len(normalized_eigenvalues)),\n",
    "    y = normalized_eigenvalues,\n",
    "    marker = '+',\n",
    "    s = 100)\n",
    "\n",
    "plt.xlabel('Principal Component')\n",
    "plt.ylabel('Explained Variance')\n",
    "plt.xlim(-1, len(normalized_eigenvalues))\n",
    "plt.ylim(-.01, max(normalized_eigenvalues) + .01)"
   ]
  },
  {
   "cell_type": "code",
   "execution_count": 45,
   "metadata": {
    "collapsed": false
   },
   "outputs": [],
   "source": [
    "cumulated_normalized_eigenvalues = np.cumsum(normalized_eigenvalues)"
   ]
  },
  {
   "cell_type": "code",
   "execution_count": 46,
   "metadata": {
    "collapsed": false
   },
   "outputs": [
    {
     "data": {
      "text/plain": [
       "array([ 0.34307738,  0.51999699,  0.61244267,  0.6272357 ,  0.64071659,\n",
       "        0.65359004,  0.66611909,  0.67841357,  0.69004477,  0.7015948 ,\n",
       "        0.71300561,  0.72389173,  0.73454241,  0.74477916,  0.75458481,\n",
       "        0.76428494,  0.77363979,  0.78276753,  0.79167079,  0.8002703 ,\n",
       "        0.80868162,  0.81696122,  0.82507227,  0.83283465,  0.84042318,\n",
       "        0.8478255 ,  0.85476794,  0.86145561,  0.8680016 ,  0.87453181,\n",
       "        0.88087488,  0.88701572,  0.89306643,  0.89884158,  0.90445583,\n",
       "        0.90993706,  0.91531756,  0.92019088,  0.9250277 ,  0.92976807,\n",
       "        0.93443781,  0.93890794,  0.94325694,  0.94743745,  0.95145738,\n",
       "        0.9554173 ,  0.95929212,  0.96299579,  0.96661053,  0.97003984,\n",
       "        0.97332941,  0.97627533,  0.97914152,  0.98197405,  0.98474868,\n",
       "        0.98736989,  0.98983645,  0.9921521 ,  0.99432209,  0.99629887,\n",
       "        0.99822103,  1.        ])"
      ]
     },
     "execution_count": 46,
     "metadata": {},
     "output_type": "execute_result"
    }
   ],
   "source": [
    "cumulated_normalized_eigenvalues"
   ]
  },
  {
   "cell_type": "code",
   "execution_count": 47,
   "metadata": {
    "collapsed": false
   },
   "outputs": [
    {
     "data": {
      "text/plain": [
       "[<matplotlib.lines.Line2D at 0x113b30a50>]"
      ]
     },
     "execution_count": 47,
     "metadata": {},
     "output_type": "execute_result"
    },
    {
     "data": {
      "image/png": "[encoded data removed]",
      "text/plain": [
       "<matplotlib.figure.Figure at 0x1139a74d0>"
      ]
     },
     "metadata": {},
     "output_type": "display_data"
    }
   ],
   "source": [
    "plt.plot(cumulated_normalized_eigenvalues)"
   ]
  },
  {
   "cell_type": "markdown",
   "metadata": {},
   "source": [
    "### Principal Components/Eigenvectors"
   ]
  },
  {
   "cell_type": "code",
   "execution_count": 48,
   "metadata": {
    "collapsed": false
   },
   "outputs": [
    {
     "data": {
      "text/plain": [
       "array([[ 0.12577537,  0.2491406 , -0.03645547, ...,  0.05007606,\n",
       "         0.07448159,  0.05265921],\n",
       "       [-0.05696789,  0.0755372 ,  0.17052116, ...,  0.00357045,\n",
       "         0.02936008,  0.03368754],\n",
       "       [ 0.25562272,  0.15818743, -0.07256437, ..., -0.25369009,\n",
       "        -0.22075579, -0.20049613],\n",
       "       ..., \n",
       "       [-0.18300038,  0.10765282,  0.1692844 , ..., -0.05835726,\n",
       "        -0.03041397, -0.070239  ],\n",
       "       [ 0.03850797, -0.10657318,  0.06550309, ..., -0.12311425,\n",
       "         0.02999196, -0.09988279],\n",
       "       [-0.11051957, -0.00112376,  0.06794346, ...,  0.0230528 ,\n",
       "        -0.10056367, -0.07766536]])"
      ]
     },
     "execution_count": 48,
     "metadata": {},
     "output_type": "execute_result"
    }
   ],
   "source": [
    "pca.components_"
   ]
  },
  {
   "cell_type": "code",
   "execution_count": 49,
   "metadata": {
    "collapsed": false
   },
   "outputs": [
    {
     "data": {
      "text/plain": [
       "(62, 62)"
      ]
     },
     "execution_count": 49,
     "metadata": {},
     "output_type": "execute_result"
    }
   ],
   "source": [
    "pca.components_.shape"
   ]
  },
  {
   "cell_type": "markdown",
   "metadata": {},
   "source": [
    "### `n_components = 3`"
   ]
  },
  {
   "cell_type": "code",
   "execution_count": 50,
   "metadata": {
    "collapsed": true
   },
   "outputs": [],
   "source": [
    "X = df\n",
    "\n",
    "# TODO\n",
    "pca = decomposition.PCA(n_components=3).fit(X)\n",
    "X = pca.transform(X)\n",
    "\n",
    "# TODO\n",
    "X = pd.DataFrame({'PC0': X.T[0], 'PC1': X.T[1], 'PC2': X.T[2]})"
   ]
  },
  {
   "cell_type": "code",
   "execution_count": 51,
   "metadata": {
    "collapsed": false
   },
   "outputs": [
    {
     "data": {
      "text/plain": [
       "(250, 3)"
      ]
     },
     "execution_count": 51,
     "metadata": {},
     "output_type": "execute_result"
    }
   ],
   "source": [
    "X.shape"
   ]
  },
  {
   "cell_type": "code",
   "execution_count": null,
   "metadata": {
    "collapsed": true
   },
   "outputs": [],
   "source": []
  },
  {
   "cell_type": "code",
   "execution_count": 52,
   "metadata": {
    "collapsed": true
   },
   "outputs": [],
   "source": [
    "eigenvector_0 = pca.components_[0]\n",
    "eigenvector_1 = pca.components_[1]\n",
    "eigenvector_2 = pca.components_[2]"
   ]
  },
  {
   "cell_type": "code",
   "execution_count": 66,
   "metadata": {
    "collapsed": false
   },
   "outputs": [
    {
     "data": {
      "text/plain": [
       "(62,)"
      ]
     },
     "execution_count": 66,
     "metadata": {},
     "output_type": "execute_result"
    }
   ],
   "source": [
    "eigenvector_0.shape"
   ]
  },
  {
   "cell_type": "markdown",
   "metadata": {},
   "source": [
    "## k-Means"
   ]
  },
  {
   "cell_type": "markdown",
   "metadata": {},
   "source": [
    "### `n_clusters = 4`"
   ]
  },
  {
   "cell_type": "code",
   "execution_count": 58,
   "metadata": {
    "collapsed": false
   },
   "outputs": [
    {
     "data": {
      "text/plain": [
       "<matplotlib.axes._subplots.AxesSubplot at 0x114e42190>"
      ]
     },
     "execution_count": 58,
     "metadata": {},
     "output_type": "execute_result"
    },
    {
     "data": {
      "image/png": "[encoded data removed]",
      "text/plain": [
       "<matplotlib.figure.Figure at 0x113d876d0>"
      ]
     },
     "metadata": {},
     "output_type": "display_data"
    }
   ],
   "source": [
    "model = cluster.KMeans(n_clusters = 4, random_state = 0).fit(X)\n",
    "\n",
    "cluster_ = pd.Series(model.labels_)\n",
    "\n",
    "color = cluster_.map({0: 'red', 1: 'green', 2: 'blue', 3: 'yellow', 4: 'black'})\n",
    "\n",
    "_, axes = plt.subplots(1, 3, figsize = (16, 6))\n",
    "X.plot.scatter(x='PC0', y='PC1', ax=axes[0], c = color)\n",
    "X.plot.scatter(x='PC0', y='PC2', ax=axes[1], c = color)\n",
    "X.plot.scatter(x='PC1', y='PC2', ax=axes[2], c = color)\n",
    "# TODO"
   ]
  },
  {
   "cell_type": "code",
   "execution_count": 59,
   "metadata": {
    "collapsed": false
   },
   "outputs": [
    {
     "data": {
      "text/plain": [
       "0    78\n",
       "1    75\n",
       "3    65\n",
       "2    32\n",
       "dtype: int64"
      ]
     },
     "execution_count": 59,
     "metadata": {},
     "output_type": "execute_result"
    }
   ],
   "source": [
    "cluster_.value_counts()"
   ]
  },
  {
   "cell_type": "code",
   "execution_count": 60,
   "metadata": {
    "collapsed": false
   },
   "outputs": [],
   "source": [
    "centroid_78 = pd.Series(pca.inverse_transform(model.cluster_centers_[0]))\n",
    "centroid_75 = pd.Series(pca.inverse_transform(model.cluster_centers_[1]))\n",
    "centroid_65 = pd.Series(pca.inverse_transform(model.cluster_centers_[2]))\n",
    "centroid_32 = pd.Series(pca.inverse_transform(model.cluster_centers_[3]))"
   ]
  },
  {
   "cell_type": "markdown",
   "metadata": {},
   "source": [
    "## Survey Questions"
   ]
  },
  {
   "cell_type": "code",
   "execution_count": 61,
   "metadata": {
    "collapsed": false
   },
   "outputs": [
    {
     "data": {
      "text/plain": [
       "0                           I want a car that is trendy\n",
       "1                                I am fashion conscious\n",
       "2     I do not have the time to worry about car main...\n",
       "3                    Basic transportation is all I need\n",
       "4                        Small cars are not prestigious\n",
       "                            ...                        \n",
       "57    For me a car is a symbol of freedom and indepe...\n",
       "58                   I am interested in car maintenance\n",
       "59    When buying a car I only consider a national make\n",
       "60    The government should implement policies that ...\n",
       "61    The government is right to tax large cars more...\n",
       "dtype: object"
      ]
     },
     "execution_count": 61,
     "metadata": {},
     "output_type": "execute_result"
    }
   ],
   "source": [
    "questions = '''I want a car that is trendy\n",
    "I am fashion conscious\n",
    "I do not have the time to worry about car maintenance\n",
    "Basic transportation is all I need\n",
    "Small cars are not prestigious\n",
    "Today's cars last much longer than yesterday's\n",
    "My car must function with total reliability\n",
    "I want a car that is easy to handle\n",
    "I am looking for a car which delivers a smooth ride\n",
    "When I buy a car, dependability is most important to me\n",
    "Today's cars are more efficient than yesterday's\n",
    "I want a car that is fuel economic\n",
    "I love to drive\n",
    "The car I buy must be able to handle long motorway journeys\n",
    "I want the most equipment I can get for my money\n",
    "I want a vehicle that is environmentally friendly\n",
    "I want a car that is nippy and zippy\n",
    "I prefer buying my next car from the same car manufacturer\n",
    "I wish there were stricter exhaust regulations\n",
    "One should not spend beyond ones means\n",
    "Good aerodynamics help fuel economy\n",
    "Small cars are much safer nowadays\n",
    "Buying a car on a lower interest rate does not interest me\n",
    "I want a car that drives well on country roads\n",
    "I consider myself an authority on cars\n",
    "Small cars are for kids\n",
    "Small cars are for women\n",
    "Domestic made is best made\n",
    "A car is a fashion accessory to me\n",
    "Having a masculine car is important to me\n",
    "I want a comfortable car\n",
    "City driving is my main concern\n",
    "Fuel economy comes at the expense of performance\n",
    "I want a practical car\n",
    "I have always been fascinated by cars which have a cult following\n",
    "I like to believe that the car I drive will one day become a cult car\n",
    "I prefer cars with high performance\n",
    "I do not believe that a Swatch branded car will be successful\n",
    "Small cars take up less room in today's traffic\n",
    "I prefer small cars\n",
    "In today's world it is anti-social to drive big cars\n",
    "Many manufacturers do not really care about their customers needs\n",
    "I would rather deal with a manufacturer's rep than a salesperson\n",
    "I want to buy a car that makes a statement about me\n",
    "A car is an extension of oneself\n",
    "I always want the latest style and design in a vehicle\n",
    "When it comes to cars my heart rules my head\n",
    "My car must have a very individual interior\n",
    "Nowadays smart cars are mainly foreign brands\n",
    "People ought to buy domestic products for the good of the country\n",
    "I want a car equipped with the latest features and technology\n",
    "I have a relationship with my car\n",
    "Quality and reliability of products are my main concerns\n",
    "Image is not important to me in a car\n",
    "Cars all look the same these days\n",
    "Most environmentally friendly products do not perform as well as those they replaced\n",
    "I want a car that has character\n",
    "For me a car is a symbol of freedom and independence\n",
    "I am interested in car maintenance\n",
    "When buying a car I only consider a national make\n",
    "The government should implement policies that favor public transportation\n",
    "The government is right to tax large cars more heavily than small cars'''\n",
    "\n",
    "questions = pd.Series(questions.splitlines())\n",
    "\n",
    "questions"
   ]
  },
  {
   "cell_type": "code",
   "execution_count": 63,
   "metadata": {
    "collapsed": false
   },
   "outputs": [],
   "source": [
    "def interpret(v):\n",
    "    # TODO\n",
    "    v = pd.Series(v).sort_values(ascending = False)\n",
    "    \n",
    "    for question in questions[v.head(5).index]:\n",
    "        print '+ {}'.format(question)\n",
    "    \n",
    "    print\n",
    "    \n",
    "    for question in questions[v.tail(5).index]:\n",
    "        print '- {}'.format(question)"
   ]
  },
  {
   "cell_type": "markdown",
   "metadata": {},
   "source": [
    "### Interpreting the principal components"
   ]
  },
  {
   "cell_type": "code",
   "execution_count": 64,
   "metadata": {
    "collapsed": false
   },
   "outputs": [
    {
     "name": "stdout",
     "output_type": "stream",
     "text": [
      "+ In today's world it is anti-social to drive big cars\n",
      "+ I am fashion conscious\n",
      "+ Buying a car on a lower interest rate does not interest me\n",
      "+ I want to buy a car that makes a statement about me\n",
      "+ When it comes to cars my heart rules my head\n",
      "\n",
      "- Quality and reliability of products are my main concerns\n",
      "- I have a relationship with my car\n",
      "- One should not spend beyond ones means\n",
      "- I want a comfortable car\n",
      "- The car I buy must be able to handle long motorway journeys\n"
     ]
    }
   ],
   "source": [
    "interpret(eigenvector_0)"
   ]
  },
  {
   "cell_type": "code",
   "execution_count": 67,
   "metadata": {
    "collapsed": false
   },
   "outputs": [
    {
     "name": "stdout",
     "output_type": "stream",
     "text": [
      "+ Small cars are not prestigious\n",
      "+ Basic transportation is all I need\n",
      "+ I want a comfortable car\n",
      "+ I have always been fascinated by cars which have a cult following\n",
      "+ I like to believe that the car I drive will one day become a cult car\n",
      "\n",
      "- I would rather deal with a manufacturer's rep than a salesperson\n",
      "- In today's world it is anti-social to drive big cars\n",
      "- Small cars take up less room in today's traffic\n",
      "- I want to buy a car that makes a statement about me\n",
      "- I want a car that is nippy and zippy\n"
     ]
    }
   ],
   "source": [
    "interpret(eigenvector_1)"
   ]
  },
  {
   "cell_type": "code",
   "execution_count": 68,
   "metadata": {
    "collapsed": false
   },
   "outputs": [
    {
     "name": "stdout",
     "output_type": "stream",
     "text": [
      "+ I want a car that is trendy\n",
      "+ For me a car is a symbol of freedom and independence\n",
      "+ I want a car that has character\n",
      "+ I am interested in car maintenance\n",
      "+ I prefer cars with high performance\n",
      "\n",
      "- Many manufacturers do not really care about their customers needs\n",
      "- The government is right to tax large cars more heavily than small cars\n",
      "- The government should implement policies that favor public transportation\n",
      "- When buying a car I only consider a national make\n",
      "- Basic transportation is all I need\n"
     ]
    }
   ],
   "source": [
    "interpret(eigenvector_2)"
   ]
  },
  {
   "cell_type": "markdown",
   "metadata": {},
   "source": [
    "### Interpreting the clusters (that's the market segmentation)"
   ]
  },
  {
   "cell_type": "code",
   "execution_count": 69,
   "metadata": {
    "collapsed": false
   },
   "outputs": [
    {
     "name": "stdout",
     "output_type": "stream",
     "text": [
      "+ When it comes to cars my heart rules my head\n",
      "+ My car must have a very individual interior\n",
      "+ I always want the latest style and design in a vehicle\n",
      "+ I want to buy a car that makes a statement about me\n",
      "+ People ought to buy domestic products for the good of the country\n",
      "\n",
      "- Image is not important to me in a car\n",
      "- I have a relationship with my car\n",
      "- Most environmentally friendly products do not perform as well as those they replaced\n",
      "- Cars all look the same these days\n",
      "- I want a car that drives well on country roads\n"
     ]
    }
   ],
   "source": [
    "interpret(centroid_78)"
   ]
  },
  {
   "cell_type": "code",
   "execution_count": 70,
   "metadata": {
    "collapsed": false
   },
   "outputs": [
    {
     "name": "stdout",
     "output_type": "stream",
     "text": [
      "+ I want the most equipment I can get for my money\n",
      "+ I want a car that is nippy and zippy\n",
      "+ Small cars are much safer nowadays\n",
      "+ Good aerodynamics help fuel economy\n",
      "+ I wish there were stricter exhaust regulations\n",
      "\n",
      "- Having a masculine car is important to me\n",
      "- Domestic made is best made\n",
      "- Buying a car on a lower interest rate does not interest me\n",
      "- I want a car that drives well on country roads\n",
      "- Small cars are not prestigious\n"
     ]
    }
   ],
   "source": [
    "interpret(centroid_75)"
   ]
  },
  {
   "cell_type": "code",
   "execution_count": 71,
   "metadata": {
    "collapsed": false
   },
   "outputs": [
    {
     "name": "stdout",
     "output_type": "stream",
     "text": [
      "+ I prefer cars with high performance\n",
      "+ For me a car is a symbol of freedom and independence\n",
      "+ I want the most equipment I can get for my money\n",
      "+ I want a comfortable car\n",
      "+ Small cars are much safer nowadays\n",
      "\n",
      "- In today's world it is anti-social to drive big cars\n",
      "- Small cars are for kids\n",
      "- Many manufacturers do not really care about their customers needs\n",
      "- When buying a car I only consider a national make\n",
      "- The government should implement policies that favor public transportation\n"
     ]
    }
   ],
   "source": [
    "interpret(centroid_65)"
   ]
  },
  {
   "cell_type": "code",
   "execution_count": null,
   "metadata": {
    "collapsed": false
   },
   "outputs": [],
   "source": [
    "interpret(centroid_32)"
   ]
  }
 ],
 "metadata": {
  "kernelspec": {
   "display_name": "ds-sf",
   "language": "python",
   "name": "ds-sf"
  },
  "language_info": {
   "codemirror_mode": {
    "name": "ipython",
    "version": 2
   },
   "file_extension": ".py",
   "mimetype": "text/x-python",
   "name": "python",
   "nbconvert_exporter": "python",
   "pygments_lexer": "ipython2",
   "version": "2.7.12"
  }
 },
 "nbformat": 4,
 "nbformat_minor": 0
}
